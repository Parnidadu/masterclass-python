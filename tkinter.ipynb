{
 "cells": [
  {
   "cell_type": "code",
   "execution_count": 1,
   "metadata": {},
   "outputs": [],
   "source": [
    "from tkinter import *\n",
    "root=Tk()\n",
    "label1=Label(root, name = \"hello world\");\n",
    "label1.pack()\n",
    "root.mainloop()"
   ]
  },
  {
   "cell_type": "code",
   "execution_count": 21,
   "metadata": {},
   "outputs": [],
   "source": [
    "from tkinter import *\n",
    "root = Tk()\n",
    "newframe = Frame(root)\n",
    "newframe.pack()\n",
    "\n",
    "otherframe = Frame(root)\n",
    "otherframe.pack(side=BOTTOM)\n",
    "button1 = Button(newframe, text=\"click here\",fg=\"red\")\n",
    "button2 = Button(otherframe,text=\"click here\",fg=\"blue\")\n",
    "button1.pack()\n",
    "button2.pack()\n",
    "\n",
    "root.mainloop()"
   ]
  },
  {
   "cell_type": "code",
   "execution_count": 8,
   "metadata": {},
   "outputs": [],
   "source": [
    "from tkinter import *\n",
    "interface = Tk()\n",
    "label1 = Label(interface, text=\"firstname\");\n",
    "label2 = Label(interface, text=\"lastname\");\n",
    "\n",
    "entry1 = Entry(interface)\n",
    "entry2 = Entry(interface)\n",
    "\n",
    "label1.grid(row = 0,column = 0)\n",
    "label2.grid(row = 1,column = 0)\n",
    "\n",
    "entry1.grid(row = 0,column = 1)\n",
    "entry2.grid(row = 1,column = 1)\n",
    "interface.mainloop()"
   ]
  },
  {
   "cell_type": "code",
   "execution_count": 7,
   "metadata": {},
   "outputs": [],
   "source": [
    "from tkinter import *\n",
    "root = Tk()\n",
    "label1 = Label(root, text=\"first name\", bg=\"red\", fg=\"white\")\n",
    "label1.pack(fill=X)\n",
    "label2 = Label(root, text=\"last name\", bg=\"yellow\", fg =\"red\")\n",
    "label2.pack(fill=Y,side=RIGHT)\n",
    "root.mainloop()"
   ]
  },
  {
   "cell_type": "code",
   "execution_count": 9,
   "metadata": {},
   "outputs": [
    {
     "name": "stdout",
     "output_type": "stream",
     "text": [
      "you clicked the button : \n",
      "you clicked the button : \n",
      "you clicked the button : \n",
      "you clicked the button : \n",
      "you clicked the button : \n",
      "you clicked the button : \n",
      "you clicked the button : \n"
     ]
    }
   ],
   "source": [
    "from tkinter import *\n",
    "root = Tk()\n",
    "\n",
    "def dosome():\n",
    "    print(\"you clicked the button : \");\n",
    "button1=Button(root, text=\"click here\" ,command=dosome)    \n",
    "button1.pack()\n",
    "\n",
    "root.mainloop()\n"
   ]
  },
  {
   "cell_type": "code",
   "execution_count": 15,
   "metadata": {},
   "outputs": [],
   "source": [
    "from tkinter import *\n",
    "def function1():\n",
    "    print(\"button is clicked\")\n",
    "root= Tk()\n",
    "mymenu = Menu(root)\n",
    "root.config(menu=mymenu)\n",
    "\n",
    "\n",
    "submenu = Menu(mymenu)\n",
    "mymenu.add_cascade(label=\"file\", menu=submenu)\n",
    "submenu.add_command(label=\"new projects\", command=function1)\n",
    "submenu.add_command(label=\"open projects\", command=function1)\n",
    "submenu.add_separator()\n",
    "submenu.add_command(label=\"exit\", command=function1)\n",
    "\n",
    "newmenu = Menu(mymenu)\n",
    "newmenu.add_cascade(label=\"edit\", menu=newmenu)\n",
    "newmenu.add_command(label=\"undo\", command=function1)\n",
    "root.mainloop()"
   ]
  },
  {
   "cell_type": "code",
   "execution_count": 13,
   "metadata": {},
   "outputs": [],
   "source": [
    "from tkinter import *\n",
    "def function1():\n",
    "    print(\"button is clicked\")\n",
    "root= Tk()\n",
    "mymenu = Menu(root)\n",
    "root.config(menu=mymenu)\n",
    "\n",
    "\n",
    "submenu = Menu(mymenu)\n",
    "mymenu.add_cascade(label=\"file\", menu=submenu)\n",
    "submenu.add_command(label=\"new projects\", command=function1)\n",
    "submenu.add_command(label=\"open projects\", command=function1)\n",
    "submenu.add_separator()\n",
    "submenu.add_command(label=\"exit\", command=function1)\n",
    "\n",
    "newmenu = Menu(mymenu)\n",
    "newmenu.add_cascade(label=\"edit\", menu=newmenu)\n",
    "newmenu.add_command(label=\"undo\", command=function1)\n",
    "root.mainloop()"
   ]
  },
  {
   "cell_type": "code",
   "execution_count": 23,
   "metadata": {},
   "outputs": [],
   "source": [
    "from tkinter import *\n",
    "import tkinter.messagebox\n",
    "\n",
    "root = Tk()\n",
    "result = tkinter.messagebox.showwarning(\"warning\",\"heavy voltage\")\n",
    "if result=='yes':\n",
    "    print(\"high voltage threat for you\")\n",
    "root.mainloop()"
   ]
  },
  {
   "cell_type": "code",
   "execution_count": 31,
   "metadata": {},
   "outputs": [
    {
     "name": "stdout",
     "output_type": "stream",
     "text": [
      "here is coffee for you\n"
     ]
    }
   ],
   "source": [
    "from tkinter import *\n",
    "import tkinter.messagebox\n",
    "result = tkinter.messagebox.askquestion(\"do you like coffee?\")\n",
    "if result == 'yes':\n",
    "    print(\"here is coffee for you\")\n",
    "root = Tk()\n",
    "root.mainloop()\n",
    "\n",
    "    "
   ]
  },
  {
   "cell_type": "code",
   "execution_count": null,
   "metadata": {},
   "outputs": [],
   "source": []
  },
  {
   "cell_type": "code",
   "execution_count": null,
   "metadata": {},
   "outputs": [],
   "source": []
  }
 ],
 "metadata": {
  "kernelspec": {
   "display_name": "Python 3",
   "language": "python",
   "name": "python3"
  },
  "language_info": {
   "codemirror_mode": {
    "name": "ipython",
    "version": 3
   },
   "file_extension": ".py",
   "mimetype": "text/x-python",
   "name": "python",
   "nbconvert_exporter": "python",
   "pygments_lexer": "ipython3",
   "version": "3.6.7"
  }
 },
 "nbformat": 4,
 "nbformat_minor": 2
}
